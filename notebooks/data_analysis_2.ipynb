{
 "cells": [
  {
   "cell_type": "code",
   "execution_count": 2,
   "metadata": {},
   "outputs": [],
   "source": [
    "import os, sys\n",
    "import pandas as pd, numpy as np\n",
    "\n",
    "sys.path.append(os.path.join(os.path.abspath(os.path.dirname(\"\")), \"..\", \"ui\"))\n",
    "from utils import (WELL_NAME_HEADER, WELL_TYPE_HEADER, WELL_CONTROL_HEADER,\n",
    "                 LOWER_BOUND_HEADER, UPPER_BOUND_HEADER, TIME_HEADER, FIXED_HEADERS)\n",
    "\n",
    "from utils import get_scenario_cols"
   ]
  },
  {
   "cell_type": "code",
   "execution_count": 3,
   "metadata": {},
   "outputs": [
    {
     "data": {
      "text/plain": [
       "'/home/csantiago3/dev/dash_table_sandbox/notebooks/../data'"
      ]
     },
     "execution_count": 3,
     "metadata": {},
     "output_type": "execute_result"
    }
   ],
   "source": [
    "DATA_PATH = os.path.join(os.path.abspath(os.path.dirname(\"\")), \"..\", 'data')\n",
    "DATA_PATH"
   ]
  },
  {
   "cell_type": "code",
   "execution_count": 15,
   "metadata": {},
   "outputs": [
    {
     "data": {
      "text/html": [
       "<div>\n",
       "<style scoped>\n",
       "    .dataframe tbody tr th:only-of-type {\n",
       "        vertical-align: middle;\n",
       "    }\n",
       "\n",
       "    .dataframe tbody tr th {\n",
       "        vertical-align: top;\n",
       "    }\n",
       "\n",
       "    .dataframe thead th {\n",
       "        text-align: right;\n",
       "    }\n",
       "</style>\n",
       "<table border=\"1\" class=\"dataframe\">\n",
       "  <thead>\n",
       "    <tr style=\"text-align: right;\">\n",
       "      <th></th>\n",
       "      <th>Variable Name - Original</th>\n",
       "      <th>Well Name</th>\n",
       "      <th>Well Type</th>\n",
       "      <th>Well Control</th>\n",
       "      <th>Lower Bound</th>\n",
       "      <th>Upper Bound</th>\n",
       "      <th>Time</th>\n",
       "      <th>Default Scenario</th>\n",
       "      <th>Variable Name - Default Scenario</th>\n",
       "      <th>Scenario 1</th>\n",
       "      <th>Variable Name - Scenario 1</th>\n",
       "      <th>Scenario 2</th>\n",
       "      <th>Variable Name - Scenario 2</th>\n",
       "    </tr>\n",
       "  </thead>\n",
       "  <tbody>\n",
       "    <tr>\n",
       "      <th>0</th>\n",
       "      <td>$P1_BHP_0001_1</td>\n",
       "      <td>P1</td>\n",
       "      <td>Producer</td>\n",
       "      <td>BHP</td>\n",
       "      <td>500</td>\n",
       "      <td>2000</td>\n",
       "      <td>60</td>\n",
       "      <td>1500</td>\n",
       "      <td>$P1_BHP_0001_1</td>\n",
       "      <td>750</td>\n",
       "      <td>$P1_BHP_0001_1</td>\n",
       "      <td>2000</td>\n",
       "      <td>$P1_BHP_0001_1</td>\n",
       "    </tr>\n",
       "    <tr>\n",
       "      <th>1</th>\n",
       "      <td>$P1_BHP_0002_1</td>\n",
       "      <td>P1</td>\n",
       "      <td>Producer</td>\n",
       "      <td>BHP</td>\n",
       "      <td>500</td>\n",
       "      <td>2000</td>\n",
       "      <td>120</td>\n",
       "      <td>1500</td>\n",
       "      <td>$P1_BHP_0002_1</td>\n",
       "      <td>750</td>\n",
       "      <td>$P1_BHP_0002_1</td>\n",
       "      <td>2000</td>\n",
       "      <td>$P1_BHP_0002_1</td>\n",
       "    </tr>\n",
       "  </tbody>\n",
       "</table>\n",
       "</div>"
      ],
      "text/plain": [
       "  Variable Name - Original Well Name Well Type Well Control  Lower Bound  \\\n",
       "0           $P1_BHP_0001_1        P1  Producer          BHP          500   \n",
       "1           $P1_BHP_0002_1        P1  Producer          BHP          500   \n",
       "\n",
       "   Upper Bound  Time  Default Scenario Variable Name - Default Scenario  \\\n",
       "0         2000    60              1500                   $P1_BHP_0001_1   \n",
       "1         2000   120              1500                   $P1_BHP_0002_1   \n",
       "\n",
       "   Scenario 1 Variable Name - Scenario 1  Scenario 2  \\\n",
       "0         750             $P1_BHP_0001_1        2000   \n",
       "1         750             $P1_BHP_0002_1        2000   \n",
       "\n",
       "  Variable Name - Scenario 2  \n",
       "0             $P1_BHP_0001_1  \n",
       "1             $P1_BHP_0002_1  "
      ]
     },
     "execution_count": 15,
     "metadata": {},
     "output_type": "execute_result"
    }
   ],
   "source": [
    "df = pd.read_csv(os.path.join(DATA_PATH,'ForecastControlsTable.csv'))\n",
    "df.head(2)"
   ]
  },
  {
   "cell_type": "code",
   "execution_count": 27,
   "metadata": {},
   "outputs": [
    {
     "data": {
      "text/plain": [
       "array([ 1250.,  1250.,  1250.,  1250.,  1250.,  1250.,  1250.,  1250.,\n",
       "        1250.,  1250.,  1250.,  1250.,  1250.,  1250.,  1250.,  1250.,\n",
       "        1250.,  1250.,  1250.,  1250.,  3000.,  3000.,  3000.,  3000.,\n",
       "        3000.,  3000.,  3000.,  3000.,  3000.,  3000.,  3000.,  3000.,\n",
       "        3000.,  3000.,  3000.,  3000.,  3000.,  3000.,  3000.,  3000.,\n",
       "        1250.,  1250.,  1250.,  1250.,  1250.,  1250.,  1250.,  1250.,\n",
       "        1250.,  1250.,  1250.,  1250.,  1250.,  1250.,  1250.,  1250.,\n",
       "        1250.,  1250.,  1250.,  1250.,  3000.,  3000.,  3000.,  3000.,\n",
       "        3000.,  3000.,  3000.,  3000.,  3000.,  3000.,  3000.,  3000.,\n",
       "        3000.,  3000.,  3000.,  3000.,  3000.,  3000.,  3000.,  3000.,\n",
       "        1250.,  1250.,  1250.,  1250.,  1250.,  1250.,  1250.,  1250.,\n",
       "        1250.,  1250.,  1250.,  1250.,  1250.,  1250.,  1250.,  1250.,\n",
       "        1250.,  1250.,  1250.,  1250.,  4000.,  4000.,  4000.,  4000.,\n",
       "        4000.,  4000.,  4000.,  4000.,  4000.,  4000.,  4000.,  4000.,\n",
       "        4000.,  4000.,  4000.,  4000.,  4000.,  4000.,  4000.,  4000.,\n",
       "       15000., 15000., 15000., 15000., 15000., 15000., 15000., 15000.,\n",
       "       15000., 15000., 15000., 15000., 15000., 15000., 15000., 15000.,\n",
       "       15000., 15000., 15000., 15000.,  4000., 15000.,  4000., 15000.,\n",
       "        4000., 15000.,  4000., 15000.,  4000., 15000.,  4000., 15000.,\n",
       "        4000., 15000.,  4000., 15000.,  4000., 15000.,  4000., 15000.,\n",
       "       10000., 10000., 10000., 10000., 10000., 10000., 10000., 10000.,\n",
       "       10000., 10000.,  6000.,  6000.,  6000.,  6000.,  6000.,  6000.,\n",
       "        6000.,  6000.,  6000.,  6000.])"
      ]
     },
     "execution_count": 27,
     "metadata": {},
     "output_type": "execute_result"
    }
   ],
   "source": [
    "df[[LOWER_BOUND_HEADER, UPPER_BOUND_HEADER]].mean(axis=1).values"
   ]
  },
  {
   "cell_type": "code",
   "execution_count": 18,
   "metadata": {},
   "outputs": [
    {
     "data": {
      "text/html": [
       "<div>\n",
       "<style scoped>\n",
       "    .dataframe tbody tr th:only-of-type {\n",
       "        vertical-align: middle;\n",
       "    }\n",
       "\n",
       "    .dataframe tbody tr th {\n",
       "        vertical-align: top;\n",
       "    }\n",
       "\n",
       "    .dataframe thead th {\n",
       "        text-align: right;\n",
       "    }\n",
       "</style>\n",
       "<table border=\"1\" class=\"dataframe\">\n",
       "  <thead>\n",
       "    <tr style=\"text-align: right;\">\n",
       "      <th></th>\n",
       "      <th>Variable Name - Original</th>\n",
       "      <th>Well Name</th>\n",
       "      <th>Well Type</th>\n",
       "      <th>Well Control</th>\n",
       "      <th>Lower Bound</th>\n",
       "      <th>Upper Bound</th>\n",
       "      <th>Time</th>\n",
       "      <th>Default Scenario</th>\n",
       "      <th>Variable Name - Default Scenario</th>\n",
       "      <th>Scenario 1</th>\n",
       "      <th>Variable Name - Scenario 1</th>\n",
       "      <th>Scenario 2</th>\n",
       "      <th>Variable Name - Scenario 2</th>\n",
       "    </tr>\n",
       "  </thead>\n",
       "  <tbody>\n",
       "    <tr>\n",
       "      <th>0</th>\n",
       "      <td>$P1_BHP_0001_1</td>\n",
       "      <td>P1</td>\n",
       "      <td>Producer</td>\n",
       "      <td>BHP</td>\n",
       "      <td>500</td>\n",
       "      <td>2000</td>\n",
       "      <td>60</td>\n",
       "      <td>1500</td>\n",
       "      <td>$P1_BHP_0001_1</td>\n",
       "      <td>750</td>\n",
       "      <td>$P1_BHP_0001_1</td>\n",
       "      <td>2000</td>\n",
       "      <td>$P1_BHP_0001_1</td>\n",
       "    </tr>\n",
       "    <tr>\n",
       "      <th>1</th>\n",
       "      <td>$P1_BHP_0002_1</td>\n",
       "      <td>P1</td>\n",
       "      <td>Producer</td>\n",
       "      <td>BHP</td>\n",
       "      <td>500</td>\n",
       "      <td>2000</td>\n",
       "      <td>120</td>\n",
       "      <td>1500</td>\n",
       "      <td>$P1_BHP_0002_1</td>\n",
       "      <td>750</td>\n",
       "      <td>$P1_BHP_0002_1</td>\n",
       "      <td>2000</td>\n",
       "      <td>$P1_BHP_0002_1</td>\n",
       "    </tr>\n",
       "    <tr>\n",
       "      <th>2</th>\n",
       "      <td>$P1_BHP_0003_1</td>\n",
       "      <td>P1</td>\n",
       "      <td>Producer</td>\n",
       "      <td>BHP</td>\n",
       "      <td>500</td>\n",
       "      <td>2000</td>\n",
       "      <td>180</td>\n",
       "      <td>1500</td>\n",
       "      <td>$P1_BHP_0003_1</td>\n",
       "      <td>750</td>\n",
       "      <td>$P1_BHP_0003_1</td>\n",
       "      <td>2000</td>\n",
       "      <td>$P1_BHP_0003_1</td>\n",
       "    </tr>\n",
       "    <tr>\n",
       "      <th>3</th>\n",
       "      <td>$P1_BHP_0004_1</td>\n",
       "      <td>P1</td>\n",
       "      <td>Producer</td>\n",
       "      <td>BHP</td>\n",
       "      <td>500</td>\n",
       "      <td>2000</td>\n",
       "      <td>240</td>\n",
       "      <td>1500</td>\n",
       "      <td>$P1_BHP_0004_1</td>\n",
       "      <td>750</td>\n",
       "      <td>$P1_BHP_0004_1</td>\n",
       "      <td>2000</td>\n",
       "      <td>$P1_BHP_0004_1</td>\n",
       "    </tr>\n",
       "    <tr>\n",
       "      <th>4</th>\n",
       "      <td>$P1_BHP_0005_1</td>\n",
       "      <td>P1</td>\n",
       "      <td>Producer</td>\n",
       "      <td>BHP</td>\n",
       "      <td>500</td>\n",
       "      <td>2000</td>\n",
       "      <td>300</td>\n",
       "      <td>1500</td>\n",
       "      <td>$P1_BHP_0005_1</td>\n",
       "      <td>750</td>\n",
       "      <td>$P1_BHP_0005_1</td>\n",
       "      <td>2000</td>\n",
       "      <td>$P1_BHP_0005_1</td>\n",
       "    </tr>\n",
       "    <tr>\n",
       "      <th>...</th>\n",
       "      <td>...</td>\n",
       "      <td>...</td>\n",
       "      <td>...</td>\n",
       "      <td>...</td>\n",
       "      <td>...</td>\n",
       "      <td>...</td>\n",
       "      <td>...</td>\n",
       "      <td>...</td>\n",
       "      <td>...</td>\n",
       "      <td>...</td>\n",
       "      <td>...</td>\n",
       "      <td>...</td>\n",
       "      <td>...</td>\n",
       "    </tr>\n",
       "    <tr>\n",
       "      <th>175</th>\n",
       "      <td>$I4_WIR_0006_1</td>\n",
       "      <td>I4</td>\n",
       "      <td>Injector</td>\n",
       "      <td>WIR</td>\n",
       "      <td>2000</td>\n",
       "      <td>10000</td>\n",
       "      <td>960</td>\n",
       "      <td>4000</td>\n",
       "      <td>$I4_WIR_0006_1</td>\n",
       "      <td>2000</td>\n",
       "      <td>$I4_WIR_0006_1</td>\n",
       "      <td>4000</td>\n",
       "      <td>$I4_WIR_0006_1</td>\n",
       "    </tr>\n",
       "    <tr>\n",
       "      <th>176</th>\n",
       "      <td>$I4_WIR_0007_1</td>\n",
       "      <td>I4</td>\n",
       "      <td>Injector</td>\n",
       "      <td>WIR</td>\n",
       "      <td>2000</td>\n",
       "      <td>10000</td>\n",
       "      <td>1020</td>\n",
       "      <td>4000</td>\n",
       "      <td>$I4_WIR_0007_1</td>\n",
       "      <td>2200</td>\n",
       "      <td>$I4_WIR_0007_1</td>\n",
       "      <td>3400</td>\n",
       "      <td>$I4_WIR_0007_1</td>\n",
       "    </tr>\n",
       "    <tr>\n",
       "      <th>177</th>\n",
       "      <td>$I4_WIR_0008_1</td>\n",
       "      <td>I4</td>\n",
       "      <td>Injector</td>\n",
       "      <td>WIR</td>\n",
       "      <td>2000</td>\n",
       "      <td>10000</td>\n",
       "      <td>1080</td>\n",
       "      <td>4000</td>\n",
       "      <td>$I4_WIR_0008_1</td>\n",
       "      <td>2400</td>\n",
       "      <td>$I4_WIR_0008_1</td>\n",
       "      <td>2800</td>\n",
       "      <td>$I4_WIR_0008_1</td>\n",
       "    </tr>\n",
       "    <tr>\n",
       "      <th>178</th>\n",
       "      <td>$I4_WIR_0009_1</td>\n",
       "      <td>I4</td>\n",
       "      <td>Injector</td>\n",
       "      <td>WIR</td>\n",
       "      <td>2000</td>\n",
       "      <td>10000</td>\n",
       "      <td>1140</td>\n",
       "      <td>4000</td>\n",
       "      <td>$I4_WIR_0009_1</td>\n",
       "      <td>2600</td>\n",
       "      <td>$I4_WIR_0009_1</td>\n",
       "      <td>2200</td>\n",
       "      <td>$I4_WIR_0009_1</td>\n",
       "    </tr>\n",
       "    <tr>\n",
       "      <th>179</th>\n",
       "      <td>$I4_WIR_0010_1</td>\n",
       "      <td>I4</td>\n",
       "      <td>Injector</td>\n",
       "      <td>WIR</td>\n",
       "      <td>2000</td>\n",
       "      <td>10000</td>\n",
       "      <td>1200</td>\n",
       "      <td>4000</td>\n",
       "      <td>$I4_WIR_0010_1</td>\n",
       "      <td>2800</td>\n",
       "      <td>$I4_WIR_0010_1</td>\n",
       "      <td>1600</td>\n",
       "      <td>$I4_WIR_0010_1</td>\n",
       "    </tr>\n",
       "  </tbody>\n",
       "</table>\n",
       "<p>180 rows × 13 columns</p>\n",
       "</div>"
      ],
      "text/plain": [
       "    Variable Name - Original Well Name Well Type Well Control  Lower Bound  \\\n",
       "0             $P1_BHP_0001_1        P1  Producer          BHP          500   \n",
       "1             $P1_BHP_0002_1        P1  Producer          BHP          500   \n",
       "2             $P1_BHP_0003_1        P1  Producer          BHP          500   \n",
       "3             $P1_BHP_0004_1        P1  Producer          BHP          500   \n",
       "4             $P1_BHP_0005_1        P1  Producer          BHP          500   \n",
       "..                       ...       ...       ...          ...          ...   \n",
       "175           $I4_WIR_0006_1        I4  Injector          WIR         2000   \n",
       "176           $I4_WIR_0007_1        I4  Injector          WIR         2000   \n",
       "177           $I4_WIR_0008_1        I4  Injector          WIR         2000   \n",
       "178           $I4_WIR_0009_1        I4  Injector          WIR         2000   \n",
       "179           $I4_WIR_0010_1        I4  Injector          WIR         2000   \n",
       "\n",
       "     Upper Bound  Time  Default Scenario Variable Name - Default Scenario  \\\n",
       "0           2000    60              1500                   $P1_BHP_0001_1   \n",
       "1           2000   120              1500                   $P1_BHP_0002_1   \n",
       "2           2000   180              1500                   $P1_BHP_0003_1   \n",
       "3           2000   240              1500                   $P1_BHP_0004_1   \n",
       "4           2000   300              1500                   $P1_BHP_0005_1   \n",
       "..           ...   ...               ...                              ...   \n",
       "175        10000   960              4000                   $I4_WIR_0006_1   \n",
       "176        10000  1020              4000                   $I4_WIR_0007_1   \n",
       "177        10000  1080              4000                   $I4_WIR_0008_1   \n",
       "178        10000  1140              4000                   $I4_WIR_0009_1   \n",
       "179        10000  1200              4000                   $I4_WIR_0010_1   \n",
       "\n",
       "     Scenario 1 Variable Name - Scenario 1  Scenario 2  \\\n",
       "0           750             $P1_BHP_0001_1        2000   \n",
       "1           750             $P1_BHP_0002_1        2000   \n",
       "2           750             $P1_BHP_0003_1        2000   \n",
       "3           750             $P1_BHP_0004_1        2000   \n",
       "4           750             $P1_BHP_0005_1        2000   \n",
       "..          ...                        ...         ...   \n",
       "175        2000             $I4_WIR_0006_1        4000   \n",
       "176        2200             $I4_WIR_0007_1        3400   \n",
       "177        2400             $I4_WIR_0008_1        2800   \n",
       "178        2600             $I4_WIR_0009_1        2200   \n",
       "179        2800             $I4_WIR_0010_1        1600   \n",
       "\n",
       "    Variable Name - Scenario 2  \n",
       "0               $P1_BHP_0001_1  \n",
       "1               $P1_BHP_0002_1  \n",
       "2               $P1_BHP_0003_1  \n",
       "3               $P1_BHP_0004_1  \n",
       "4               $P1_BHP_0005_1  \n",
       "..                         ...  \n",
       "175             $I4_WIR_0006_1  \n",
       "176             $I4_WIR_0007_1  \n",
       "177             $I4_WIR_0008_1  \n",
       "178             $I4_WIR_0009_1  \n",
       "179             $I4_WIR_0010_1  \n",
       "\n",
       "[180 rows x 13 columns]"
      ]
     },
     "execution_count": 18,
     "metadata": {},
     "output_type": "execute_result"
    }
   ],
   "source": [
    "df.reset_index(drop=True, inplace=True)\n",
    "df"
   ]
  },
  {
   "cell_type": "code",
   "execution_count": 26,
   "metadata": {},
   "outputs": [
    {
     "data": {
      "text/html": [
       "<div>\n",
       "<style scoped>\n",
       "    .dataframe tbody tr th:only-of-type {\n",
       "        vertical-align: middle;\n",
       "    }\n",
       "\n",
       "    .dataframe tbody tr th {\n",
       "        vertical-align: top;\n",
       "    }\n",
       "\n",
       "    .dataframe thead th {\n",
       "        text-align: right;\n",
       "    }\n",
       "</style>\n",
       "<table border=\"1\" class=\"dataframe\">\n",
       "  <thead>\n",
       "    <tr style=\"text-align: right;\">\n",
       "      <th></th>\n",
       "      <th>Lower Bound</th>\n",
       "      <th>Upper Bound</th>\n",
       "    </tr>\n",
       "  </thead>\n",
       "  <tbody>\n",
       "    <tr>\n",
       "      <th>160</th>\n",
       "      <td>5000</td>\n",
       "      <td>15000</td>\n",
       "    </tr>\n",
       "    <tr>\n",
       "      <th>161</th>\n",
       "      <td>5000</td>\n",
       "      <td>15000</td>\n",
       "    </tr>\n",
       "    <tr>\n",
       "      <th>162</th>\n",
       "      <td>5000</td>\n",
       "      <td>15000</td>\n",
       "    </tr>\n",
       "    <tr>\n",
       "      <th>163</th>\n",
       "      <td>5000</td>\n",
       "      <td>15000</td>\n",
       "    </tr>\n",
       "    <tr>\n",
       "      <th>164</th>\n",
       "      <td>5000</td>\n",
       "      <td>15000</td>\n",
       "    </tr>\n",
       "    <tr>\n",
       "      <th>165</th>\n",
       "      <td>5000</td>\n",
       "      <td>15000</td>\n",
       "    </tr>\n",
       "    <tr>\n",
       "      <th>166</th>\n",
       "      <td>5000</td>\n",
       "      <td>15000</td>\n",
       "    </tr>\n",
       "    <tr>\n",
       "      <th>167</th>\n",
       "      <td>5000</td>\n",
       "      <td>15000</td>\n",
       "    </tr>\n",
       "    <tr>\n",
       "      <th>168</th>\n",
       "      <td>5000</td>\n",
       "      <td>15000</td>\n",
       "    </tr>\n",
       "    <tr>\n",
       "      <th>169</th>\n",
       "      <td>5000</td>\n",
       "      <td>15000</td>\n",
       "    </tr>\n",
       "    <tr>\n",
       "      <th>170</th>\n",
       "      <td>2000</td>\n",
       "      <td>10000</td>\n",
       "    </tr>\n",
       "    <tr>\n",
       "      <th>171</th>\n",
       "      <td>2000</td>\n",
       "      <td>10000</td>\n",
       "    </tr>\n",
       "    <tr>\n",
       "      <th>172</th>\n",
       "      <td>2000</td>\n",
       "      <td>10000</td>\n",
       "    </tr>\n",
       "    <tr>\n",
       "      <th>173</th>\n",
       "      <td>2000</td>\n",
       "      <td>10000</td>\n",
       "    </tr>\n",
       "    <tr>\n",
       "      <th>174</th>\n",
       "      <td>2000</td>\n",
       "      <td>10000</td>\n",
       "    </tr>\n",
       "    <tr>\n",
       "      <th>175</th>\n",
       "      <td>2000</td>\n",
       "      <td>10000</td>\n",
       "    </tr>\n",
       "    <tr>\n",
       "      <th>176</th>\n",
       "      <td>2000</td>\n",
       "      <td>10000</td>\n",
       "    </tr>\n",
       "    <tr>\n",
       "      <th>177</th>\n",
       "      <td>2000</td>\n",
       "      <td>10000</td>\n",
       "    </tr>\n",
       "    <tr>\n",
       "      <th>178</th>\n",
       "      <td>2000</td>\n",
       "      <td>10000</td>\n",
       "    </tr>\n",
       "    <tr>\n",
       "      <th>179</th>\n",
       "      <td>2000</td>\n",
       "      <td>10000</td>\n",
       "    </tr>\n",
       "  </tbody>\n",
       "</table>\n",
       "</div>"
      ],
      "text/plain": [
       "     Lower Bound  Upper Bound\n",
       "160         5000        15000\n",
       "161         5000        15000\n",
       "162         5000        15000\n",
       "163         5000        15000\n",
       "164         5000        15000\n",
       "165         5000        15000\n",
       "166         5000        15000\n",
       "167         5000        15000\n",
       "168         5000        15000\n",
       "169         5000        15000\n",
       "170         2000        10000\n",
       "171         2000        10000\n",
       "172         2000        10000\n",
       "173         2000        10000\n",
       "174         2000        10000\n",
       "175         2000        10000\n",
       "176         2000        10000\n",
       "177         2000        10000\n",
       "178         2000        10000\n",
       "179         2000        10000"
      ]
     },
     "execution_count": 26,
     "metadata": {},
     "output_type": "execute_result"
    }
   ],
   "source": [
    "df.loc[df[WELL_NAME_HEADER] == 'I4', [\"Lower Bound\", \"Upper Bound\"]]"
   ]
  },
  {
   "cell_type": "code",
   "execution_count": 21,
   "metadata": {},
   "outputs": [
    {
     "data": {
      "text/html": [
       "<div>\n",
       "<style scoped>\n",
       "    .dataframe tbody tr th:only-of-type {\n",
       "        vertical-align: middle;\n",
       "    }\n",
       "\n",
       "    .dataframe tbody tr th {\n",
       "        vertical-align: top;\n",
       "    }\n",
       "\n",
       "    .dataframe thead th {\n",
       "        text-align: right;\n",
       "    }\n",
       "</style>\n",
       "<table border=\"1\" class=\"dataframe\">\n",
       "  <thead>\n",
       "    <tr style=\"text-align: right;\">\n",
       "      <th></th>\n",
       "      <th>Lower Bound</th>\n",
       "      <th>Upper Bound</th>\n",
       "    </tr>\n",
       "  </thead>\n",
       "  <tbody>\n",
       "    <tr>\n",
       "      <th>3</th>\n",
       "      <td>500</td>\n",
       "      <td>2000</td>\n",
       "    </tr>\n",
       "  </tbody>\n",
       "</table>\n",
       "</div>"
      ],
      "text/plain": [
       "   Lower Bound  Upper Bound\n",
       "3          500         2000"
      ]
     },
     "execution_count": 21,
     "metadata": {},
     "output_type": "execute_result"
    }
   ],
   "source": [
    "abc = df[df.index == 3][[\"Lower Bound\", \"Upper Bound\"]]\n",
    "abc"
   ]
  },
  {
   "cell_type": "code",
   "execution_count": 24,
   "metadata": {},
   "outputs": [
    {
     "data": {
      "text/plain": [
       "np.int64(500)"
      ]
     },
     "execution_count": 24,
     "metadata": {},
     "output_type": "execute_result"
    }
   ],
   "source": [
    "abc['Lower Bound'].values[0]"
   ]
  },
  {
   "cell_type": "code",
   "execution_count": null,
   "metadata": {},
   "outputs": [],
   "source": []
  },
  {
   "cell_type": "code",
   "execution_count": 9,
   "metadata": {},
   "outputs": [
    {
     "data": {
      "text/plain": [
       "0      \\$P1_BHP_0001_1\n",
       "1      \\$P1_BHP_0002_1\n",
       "2      \\$P1_BHP_0003_1\n",
       "3      \\$P1_BHP_0004_1\n",
       "4      \\$P1_BHP_0005_1\n",
       "            ...       \n",
       "175    \\$I4_WIR_0006_1\n",
       "176    \\$I4_WIR_0007_1\n",
       "177    \\$I4_WIR_0008_1\n",
       "178    \\$I4_WIR_0009_1\n",
       "179    \\$I4_WIR_0010_1\n",
       "Name: Variable Name - Original, Length: 180, dtype: object"
      ]
     },
     "execution_count": 9,
     "metadata": {},
     "output_type": "execute_result"
    }
   ],
   "source": [
    "df[\"Variable Name - Original\"].map(lambda x: x.replace(\"$\", \"\\$\"))"
   ]
  },
  {
   "cell_type": "code",
   "execution_count": 14,
   "metadata": {},
   "outputs": [],
   "source": [
    "def well_agg_main_table(x):\n",
    "    all_equal = all(abs(item - x.iloc[0])<1e-10 for item in x.values)\n",
    "    if all_equal: return x.iloc[0]\n",
    "    else: return \"varying\""
   ]
  },
  {
   "cell_type": "code",
   "execution_count": 17,
   "metadata": {},
   "outputs": [
    {
     "data": {
      "text/plain": [
       "'varying'"
      ]
     },
     "execution_count": 17,
     "metadata": {},
     "output_type": "execute_result"
    }
   ],
   "source": [
    "well_agg_main_table(array_1)"
   ]
  },
  {
   "cell_type": "code",
   "execution_count": 18,
   "metadata": {},
   "outputs": [
    {
     "data": {
      "text/plain": [
       "np.int64(30)"
      ]
     },
     "execution_count": 18,
     "metadata": {},
     "output_type": "execute_result"
    }
   ],
   "source": [
    "well_agg_main_table(array_2)"
   ]
  },
  {
   "cell_type": "code",
   "execution_count": 20,
   "metadata": {},
   "outputs": [],
   "source": [
    "scenario_columns = get_scenario_cols(df)\n",
    "cols = [WELL_NAME_HEADER, WELL_TYPE_HEADER, WELL_CONTROL_HEADER] + scenario_columns"
   ]
  },
  {
   "cell_type": "code",
   "execution_count": 26,
   "metadata": {},
   "outputs": [],
   "source": [
    "df_main = df[cols].groupby(by=[WELL_NAME_HEADER,WELL_TYPE_HEADER, WELL_CONTROL_HEADER])[scenario_columns].agg(func=well_agg_main_table).reset_index()"
   ]
  },
  {
   "cell_type": "code",
   "execution_count": 27,
   "metadata": {},
   "outputs": [
    {
     "data": {
      "text/html": [
       "<div>\n",
       "<style scoped>\n",
       "    .dataframe tbody tr th:only-of-type {\n",
       "        vertical-align: middle;\n",
       "    }\n",
       "\n",
       "    .dataframe tbody tr th {\n",
       "        vertical-align: top;\n",
       "    }\n",
       "\n",
       "    .dataframe thead th {\n",
       "        text-align: right;\n",
       "    }\n",
       "</style>\n",
       "<table border=\"1\" class=\"dataframe\">\n",
       "  <thead>\n",
       "    <tr style=\"text-align: right;\">\n",
       "      <th></th>\n",
       "      <th>Well Name</th>\n",
       "      <th>Well Type</th>\n",
       "      <th>Well Control</th>\n",
       "      <th>Default Scenario</th>\n",
       "      <th>Scenario 1</th>\n",
       "      <th>Scenario 2</th>\n",
       "    </tr>\n",
       "  </thead>\n",
       "  <tbody>\n",
       "    <tr>\n",
       "      <th>0</th>\n",
       "      <td>I1</td>\n",
       "      <td>Injector</td>\n",
       "      <td>WIR</td>\n",
       "      <td>5000</td>\n",
       "      <td>2000</td>\n",
       "      <td>8000</td>\n",
       "    </tr>\n",
       "    <tr>\n",
       "      <th>1</th>\n",
       "      <td>I2</td>\n",
       "      <td>Injector</td>\n",
       "      <td>WIR</td>\n",
       "      <td>3000</td>\n",
       "      <td>1000</td>\n",
       "      <td>6000</td>\n",
       "    </tr>\n",
       "    <tr>\n",
       "      <th>2</th>\n",
       "      <td>I3</td>\n",
       "      <td>Injector</td>\n",
       "      <td>WIR</td>\n",
       "      <td>varying</td>\n",
       "      <td>varying</td>\n",
       "      <td>varying</td>\n",
       "    </tr>\n",
       "    <tr>\n",
       "      <th>3</th>\n",
       "      <td>I4</td>\n",
       "      <td>Injector</td>\n",
       "      <td>WIR</td>\n",
       "      <td>varying</td>\n",
       "      <td>varying</td>\n",
       "      <td>varying</td>\n",
       "    </tr>\n",
       "    <tr>\n",
       "      <th>4</th>\n",
       "      <td>P1</td>\n",
       "      <td>Producer</td>\n",
       "      <td>BHP</td>\n",
       "      <td>1500</td>\n",
       "      <td>750</td>\n",
       "      <td>2000</td>\n",
       "    </tr>\n",
       "    <tr>\n",
       "      <th>5</th>\n",
       "      <td>P2</td>\n",
       "      <td>Producer</td>\n",
       "      <td>BHP</td>\n",
       "      <td>1200</td>\n",
       "      <td>500</td>\n",
       "      <td>1500</td>\n",
       "    </tr>\n",
       "    <tr>\n",
       "      <th>6</th>\n",
       "      <td>P3</td>\n",
       "      <td>Producer</td>\n",
       "      <td>BHP</td>\n",
       "      <td>1000</td>\n",
       "      <td>400</td>\n",
       "      <td>1100</td>\n",
       "    </tr>\n",
       "    <tr>\n",
       "      <th>7</th>\n",
       "      <td>P4</td>\n",
       "      <td>Producer</td>\n",
       "      <td>BHP</td>\n",
       "      <td>1700</td>\n",
       "      <td>varying</td>\n",
       "      <td>varying</td>\n",
       "    </tr>\n",
       "    <tr>\n",
       "      <th>8</th>\n",
       "      <td>P5</td>\n",
       "      <td>Producer</td>\n",
       "      <td>BHP</td>\n",
       "      <td>600</td>\n",
       "      <td>varying</td>\n",
       "      <td>varying</td>\n",
       "    </tr>\n",
       "  </tbody>\n",
       "</table>\n",
       "</div>"
      ],
      "text/plain": [
       "  Well Name Well Type Well Control Default Scenario Scenario 1 Scenario 2\n",
       "0        I1  Injector          WIR             5000       2000       8000\n",
       "1        I2  Injector          WIR             3000       1000       6000\n",
       "2        I3  Injector          WIR          varying    varying    varying\n",
       "3        I4  Injector          WIR          varying    varying    varying\n",
       "4        P1  Producer          BHP             1500        750       2000\n",
       "5        P2  Producer          BHP             1200        500       1500\n",
       "6        P3  Producer          BHP             1000        400       1100\n",
       "7        P4  Producer          BHP             1700    varying    varying\n",
       "8        P5  Producer          BHP              600    varying    varying"
      ]
     },
     "execution_count": 27,
     "metadata": {},
     "output_type": "execute_result"
    }
   ],
   "source": [
    "df_main"
   ]
  },
  {
   "cell_type": "code",
   "execution_count": 44,
   "metadata": {},
   "outputs": [
    {
     "data": {
      "text/plain": [
       "Index(['Well Name', 'Well Type', 'Well Control', 'LowerBound', 'UpperBound',\n",
       "       'Time', 'Default Scenario', 'Scenario 1', 'Scenario 2'],\n",
       "      dtype='object')"
      ]
     },
     "execution_count": 44,
     "metadata": {},
     "output_type": "execute_result"
    }
   ],
   "source": [
    "df.columns"
   ]
  },
  {
   "cell_type": "code",
   "execution_count": 45,
   "metadata": {},
   "outputs": [
    {
     "name": "stdout",
     "output_type": "stream",
     "text": [
      "Default Scenario\n"
     ]
    }
   ],
   "source": [
    "for c in df.columns:\n",
    "    if c not in FIXED_HEADERS:\n",
    "        break\n",
    "\n",
    "print(c)"
   ]
  },
  {
   "cell_type": "code",
   "execution_count": 46,
   "metadata": {},
   "outputs": [
    {
     "data": {
      "text/html": [
       "<div>\n",
       "<style scoped>\n",
       "    .dataframe tbody tr th:only-of-type {\n",
       "        vertical-align: middle;\n",
       "    }\n",
       "\n",
       "    .dataframe tbody tr th {\n",
       "        vertical-align: top;\n",
       "    }\n",
       "\n",
       "    .dataframe thead th {\n",
       "        text-align: right;\n",
       "    }\n",
       "</style>\n",
       "<table border=\"1\" class=\"dataframe\">\n",
       "  <thead>\n",
       "    <tr style=\"text-align: right;\">\n",
       "      <th></th>\n",
       "      <th>a</th>\n",
       "      <th>b</th>\n",
       "    </tr>\n",
       "  </thead>\n",
       "  <tbody>\n",
       "  </tbody>\n",
       "</table>\n",
       "</div>"
      ],
      "text/plain": [
       "Empty DataFrame\n",
       "Columns: [a, b]\n",
       "Index: []"
      ]
     },
     "execution_count": 46,
     "metadata": {},
     "output_type": "execute_result"
    }
   ],
   "source": [
    "pd.DataFrame(columns=[\"a\", \"b\"])"
   ]
  },
  {
   "cell_type": "code",
   "execution_count": null,
   "metadata": {},
   "outputs": [],
   "source": []
  },
  {
   "cell_type": "code",
   "execution_count": 18,
   "metadata": {},
   "outputs": [
    {
     "data": {
      "text/html": [
       "<div>\n",
       "<style scoped>\n",
       "    .dataframe tbody tr th:only-of-type {\n",
       "        vertical-align: middle;\n",
       "    }\n",
       "\n",
       "    .dataframe tbody tr th {\n",
       "        vertical-align: top;\n",
       "    }\n",
       "\n",
       "    .dataframe thead th {\n",
       "        text-align: right;\n",
       "    }\n",
       "</style>\n",
       "<table border=\"1\" class=\"dataframe\">\n",
       "  <thead>\n",
       "    <tr style=\"text-align: right;\">\n",
       "      <th></th>\n",
       "      <th>Well</th>\n",
       "      <th>Time</th>\n",
       "      <th>Scenario 1</th>\n",
       "      <th>Scenario 2</th>\n",
       "      <th>Scenario 3</th>\n",
       "    </tr>\n",
       "  </thead>\n",
       "  <tbody>\n",
       "    <tr>\n",
       "      <th>0</th>\n",
       "      <td>I1</td>\n",
       "      <td>55.0</td>\n",
       "      <td>0.575018</td>\n",
       "      <td>0.544833</td>\n",
       "      <td>0.544833</td>\n",
       "    </tr>\n",
       "    <tr>\n",
       "      <th>1</th>\n",
       "      <td>I2</td>\n",
       "      <td>55.0</td>\n",
       "      <td>0.573676</td>\n",
       "      <td>0.691033</td>\n",
       "      <td>0.691033</td>\n",
       "    </tr>\n",
       "    <tr>\n",
       "      <th>2</th>\n",
       "      <td>I3</td>\n",
       "      <td>55.0</td>\n",
       "      <td>0.573008</td>\n",
       "      <td>0.538980</td>\n",
       "      <td>0.538980</td>\n",
       "    </tr>\n",
       "  </tbody>\n",
       "</table>\n",
       "</div>"
      ],
      "text/plain": [
       "  Well  Time  Scenario 1  Scenario 2  Scenario 3\n",
       "0   I1  55.0    0.575018    0.544833    0.544833\n",
       "1   I2  55.0    0.573676    0.691033    0.691033\n",
       "2   I3  55.0    0.573008    0.538980    0.538980"
      ]
     },
     "execution_count": 18,
     "metadata": {},
     "output_type": "execute_result"
    }
   ],
   "source": [
    "df_avg = df.groupby(by='Well').aggregate(func='mean').reset_index()\n",
    "df_avg.head(3)"
   ]
  },
  {
   "cell_type": "code",
   "execution_count": 32,
   "metadata": {},
   "outputs": [
    {
     "data": {
      "text/plain": [
       "[{'id': 'index', 'name': ''}]"
      ]
     },
     "execution_count": 32,
     "metadata": {},
     "output_type": "execute_result"
    }
   ],
   "source": [
    "columns = [{'id': 'index', 'name': ''}]\n",
    "columns"
   ]
  },
  {
   "cell_type": "code",
   "execution_count": 34,
   "metadata": {},
   "outputs": [],
   "source": [
    "open_eye = '<i class=\"fa-regular fa-eye\"></i>'"
   ]
  },
  {
   "cell_type": "code",
   "execution_count": 33,
   "metadata": {},
   "outputs": [
    {
     "data": {
      "text/plain": [
       "[{'id': 'index', 'name': ''},\n",
       " {'id': 'Well', 'name': 'Well'},\n",
       " {'id': 'Time', 'name': 'Time'},\n",
       " {'id': 'Scenario 1', 'name': 'Scenario 1'},\n",
       " {'id': 'Scenario 2', 'name': 'Scenario 2'},\n",
       " {'id': 'Scenario 3', 'name': 'Scenario 3'}]"
      ]
     },
     "execution_count": 33,
     "metadata": {},
     "output_type": "execute_result"
    }
   ],
   "source": [
    "columns.extend([{'id': c, 'name': c} for c in df_avg.columns])\n",
    "columns"
   ]
  },
  {
   "cell_type": "code",
   "execution_count": 27,
   "metadata": {},
   "outputs": [],
   "source": [
    "from dash import html\n",
    "import dash_bootstrap_components as dbc"
   ]
  },
  {
   "cell_type": "code",
   "execution_count": 35,
   "metadata": {},
   "outputs": [
    {
     "data": {
      "text/html": [
       "<div>\n",
       "<style scoped>\n",
       "    .dataframe tbody tr th:only-of-type {\n",
       "        vertical-align: middle;\n",
       "    }\n",
       "\n",
       "    .dataframe tbody tr th {\n",
       "        vertical-align: top;\n",
       "    }\n",
       "\n",
       "    .dataframe thead th {\n",
       "        text-align: right;\n",
       "    }\n",
       "</style>\n",
       "<table border=\"1\" class=\"dataframe\">\n",
       "  <thead>\n",
       "    <tr style=\"text-align: right;\">\n",
       "      <th></th>\n",
       "      <th>Well</th>\n",
       "      <th>Time</th>\n",
       "      <th>Scenario 1</th>\n",
       "      <th>Scenario 2</th>\n",
       "      <th>Scenario 3</th>\n",
       "    </tr>\n",
       "  </thead>\n",
       "  <tbody>\n",
       "    <tr>\n",
       "      <th>&lt;i class=\"fa-regular fa-eye\"&gt;&lt;/i&gt;</th>\n",
       "      <td>I1</td>\n",
       "      <td>55.0</td>\n",
       "      <td>0.575018</td>\n",
       "      <td>0.544833</td>\n",
       "      <td>0.544833</td>\n",
       "    </tr>\n",
       "    <tr>\n",
       "      <th>&lt;i class=\"fa-regular fa-eye\"&gt;&lt;/i&gt;</th>\n",
       "      <td>I2</td>\n",
       "      <td>55.0</td>\n",
       "      <td>0.573676</td>\n",
       "      <td>0.691033</td>\n",
       "      <td>0.691033</td>\n",
       "    </tr>\n",
       "    <tr>\n",
       "      <th>&lt;i class=\"fa-regular fa-eye\"&gt;&lt;/i&gt;</th>\n",
       "      <td>I3</td>\n",
       "      <td>55.0</td>\n",
       "      <td>0.573008</td>\n",
       "      <td>0.538980</td>\n",
       "      <td>0.538980</td>\n",
       "    </tr>\n",
       "    <tr>\n",
       "      <th>&lt;i class=\"fa-regular fa-eye\"&gt;&lt;/i&gt;</th>\n",
       "      <td>I4</td>\n",
       "      <td>55.0</td>\n",
       "      <td>0.571061</td>\n",
       "      <td>0.578947</td>\n",
       "      <td>0.578947</td>\n",
       "    </tr>\n",
       "    <tr>\n",
       "      <th>&lt;i class=\"fa-regular fa-eye\"&gt;&lt;/i&gt;</th>\n",
       "      <td>I5</td>\n",
       "      <td>55.0</td>\n",
       "      <td>0.460766</td>\n",
       "      <td>0.488578</td>\n",
       "      <td>0.488578</td>\n",
       "    </tr>\n",
       "    <tr>\n",
       "      <th>&lt;i class=\"fa-regular fa-eye\"&gt;&lt;/i&gt;</th>\n",
       "      <td>I6</td>\n",
       "      <td>55.0</td>\n",
       "      <td>0.411820</td>\n",
       "      <td>0.596112</td>\n",
       "      <td>0.596112</td>\n",
       "    </tr>\n",
       "    <tr>\n",
       "      <th>&lt;i class=\"fa-regular fa-eye\"&gt;&lt;/i&gt;</th>\n",
       "      <td>I7</td>\n",
       "      <td>55.0</td>\n",
       "      <td>0.361851</td>\n",
       "      <td>0.400099</td>\n",
       "      <td>0.400099</td>\n",
       "    </tr>\n",
       "    <tr>\n",
       "      <th>&lt;i class=\"fa-regular fa-eye\"&gt;&lt;/i&gt;</th>\n",
       "      <td>I8</td>\n",
       "      <td>55.0</td>\n",
       "      <td>0.358112</td>\n",
       "      <td>0.463465</td>\n",
       "      <td>0.463465</td>\n",
       "    </tr>\n",
       "  </tbody>\n",
       "</table>\n",
       "</div>"
      ],
      "text/plain": [
       "                                  Well  Time  Scenario 1  Scenario 2  \\\n",
       "<i class=\"fa-regular fa-eye\"></i>   I1  55.0    0.575018    0.544833   \n",
       "<i class=\"fa-regular fa-eye\"></i>   I2  55.0    0.573676    0.691033   \n",
       "<i class=\"fa-regular fa-eye\"></i>   I3  55.0    0.573008    0.538980   \n",
       "<i class=\"fa-regular fa-eye\"></i>   I4  55.0    0.571061    0.578947   \n",
       "<i class=\"fa-regular fa-eye\"></i>   I5  55.0    0.460766    0.488578   \n",
       "<i class=\"fa-regular fa-eye\"></i>   I6  55.0    0.411820    0.596112   \n",
       "<i class=\"fa-regular fa-eye\"></i>   I7  55.0    0.361851    0.400099   \n",
       "<i class=\"fa-regular fa-eye\"></i>   I8  55.0    0.358112    0.463465   \n",
       "\n",
       "                                   Scenario 3  \n",
       "<i class=\"fa-regular fa-eye\"></i>    0.544833  \n",
       "<i class=\"fa-regular fa-eye\"></i>    0.691033  \n",
       "<i class=\"fa-regular fa-eye\"></i>    0.538980  \n",
       "<i class=\"fa-regular fa-eye\"></i>    0.578947  \n",
       "<i class=\"fa-regular fa-eye\"></i>    0.488578  \n",
       "<i class=\"fa-regular fa-eye\"></i>    0.596112  \n",
       "<i class=\"fa-regular fa-eye\"></i>    0.400099  \n",
       "<i class=\"fa-regular fa-eye\"></i>    0.463465  "
      ]
     },
     "execution_count": 35,
     "metadata": {},
     "output_type": "execute_result"
    }
   ],
   "source": [
    "df_avg.index = len(df_avg)*[open_eye]\n",
    "df_avg"
   ]
  },
  {
   "cell_type": "code",
   "execution_count": 52,
   "metadata": {},
   "outputs": [
    {
     "data": {
      "text/plain": [
       "[None, None, None]"
      ]
     },
     "execution_count": 52,
     "metadata": {},
     "output_type": "execute_result"
    }
   ],
   "source": [
    "temd_dict = {}\n",
    "[temd_dict.update({c:1}) for c in df_avg.columns if 'Scenario' in c]"
   ]
  },
  {
   "cell_type": "code",
   "execution_count": 54,
   "metadata": {},
   "outputs": [
    {
     "data": {
      "text/plain": [
       "[{'id': 'icon', 'name': '', 'presentation': 'markdown'},\n",
       " {'id': 'Time', 'name': 'Time'},\n",
       " {'id': 'Scenario 1', 'name': 'Scenario 1'},\n",
       " {'id': 'Scenario 2', 'name': 'Scenario 2'},\n",
       " {'id': 'Scenario 3', 'name': 'Scenario 3'}]"
      ]
     },
     "execution_count": 54,
     "metadata": {},
     "output_type": "execute_result"
    }
   ],
   "source": [
    "columns = [{'id': 'icon', 'name': '', \"presentation\": \"markdown\"}]\n",
    "columns.extend([{'id': c, 'name': c} for c in df_avg.columns[1:]])\n",
    "columns"
   ]
  },
  {
   "cell_type": "code",
   "execution_count": 55,
   "metadata": {},
   "outputs": [
    {
     "data": {
      "text/plain": [
       "[{'id': 'icon', 'name': '', 'presentation': 'markdown'},\n",
       " {'id': 'Time', 'name': 'Time'},\n",
       " {'id': 'Scenario 1', 'name': 'Scenario 1', 'editable': True},\n",
       " {'id': 'Scenario 2', 'name': 'Scenario 2', 'editable': True},\n",
       " {'id': 'Scenario 3', 'name': 'Scenario 3', 'editable': True}]"
      ]
     },
     "execution_count": 55,
     "metadata": {},
     "output_type": "execute_result"
    }
   ],
   "source": [
    "[col_dict.update({'editable':True}) for col_dict in columns if 'Scenario' in col_dict['name']]\n",
    "columns"
   ]
  },
  {
   "cell_type": "code",
   "execution_count": 53,
   "metadata": {},
   "outputs": [
    {
     "data": {
      "text/plain": [
       "{'Scenario 1': 1, 'Scenario 2': 1, 'Scenario 3': 1}"
      ]
     },
     "execution_count": 53,
     "metadata": {},
     "output_type": "execute_result"
    }
   ],
   "source": [
    "[col_dict.update({'editable':True}) for col_dict in columns if 'Scenario' in col_dict['name']]\n"
   ]
  },
  {
   "cell_type": "code",
   "execution_count": 49,
   "metadata": {},
   "outputs": [
    {
     "data": {
      "text/plain": [
       "{'c': 1}"
      ]
     },
     "execution_count": 49,
     "metadata": {},
     "output_type": "execute_result"
    }
   ],
   "source": [
    "temd_dict"
   ]
  },
  {
   "cell_type": "code",
   "execution_count": null,
   "metadata": {},
   "outputs": [],
   "source": []
  },
  {
   "cell_type": "code",
   "execution_count": 41,
   "metadata": {},
   "outputs": [
    {
     "ename": "TypeError",
     "evalue": "decimals must be an integer, a dict-like or a Series",
     "output_type": "error",
     "traceback": [
      "\u001b[0;31m---------------------------------------------------------------------------\u001b[0m",
      "\u001b[0;31mTypeError\u001b[0m                                 Traceback (most recent call last)",
      "\u001b[0;32m/tmp/ipykernel_25045/3358897735.py\u001b[0m in \u001b[0;36m?\u001b[0;34m()\u001b[0m\n\u001b[0;32m----> 1\u001b[0;31m \u001b[0mdf_avg\u001b[0m\u001b[0;34m.\u001b[0m\u001b[0mround\u001b[0m\u001b[0;34m(\u001b[0m\u001b[0;34m[\u001b[0m\u001b[0;34m{\u001b[0m\u001b[0mc\u001b[0m\u001b[0;34m:\u001b[0m\u001b[0;36m1\u001b[0m\u001b[0;34m}\u001b[0m \u001b[0;32mfor\u001b[0m \u001b[0mc\u001b[0m \u001b[0;32min\u001b[0m \u001b[0mdf_avg\u001b[0m\u001b[0;34m.\u001b[0m\u001b[0mcolumns\u001b[0m \u001b[0;32mif\u001b[0m \u001b[0;34m'Scenario'\u001b[0m \u001b[0;32min\u001b[0m \u001b[0mc\u001b[0m\u001b[0;34m]\u001b[0m\u001b[0;34m)\u001b[0m\u001b[0;34m\u001b[0m\u001b[0;34m\u001b[0m\u001b[0m\n\u001b[0m",
      "\u001b[0;32m~/.pyenv/versions/3.10.8/envs/dash_table_sandbox/lib/python3.10/site-packages/pandas/core/frame.py\u001b[0m in \u001b[0;36m?\u001b[0;34m(self, decimals, *args, **kwargs)\u001b[0m\n\u001b[1;32m  10959\u001b[0m             return self._constructor_from_mgr(new_mgr, axes=new_mgr.axes).__finalize__(\n\u001b[1;32m  10960\u001b[0m                 \u001b[0mself\u001b[0m\u001b[0;34m,\u001b[0m \u001b[0mmethod\u001b[0m\u001b[0;34m=\u001b[0m\u001b[0;34m\"round\"\u001b[0m\u001b[0;34m\u001b[0m\u001b[0;34m\u001b[0m\u001b[0m\n\u001b[1;32m  10961\u001b[0m             )\n\u001b[1;32m  10962\u001b[0m         \u001b[0;32melse\u001b[0m\u001b[0;34m:\u001b[0m\u001b[0;34m\u001b[0m\u001b[0;34m\u001b[0m\u001b[0m\n\u001b[0;32m> 10963\u001b[0;31m             \u001b[0;32mraise\u001b[0m \u001b[0mTypeError\u001b[0m\u001b[0;34m(\u001b[0m\u001b[0;34m\"decimals must be an integer, a dict-like or a Series\"\u001b[0m\u001b[0;34m)\u001b[0m\u001b[0;34m\u001b[0m\u001b[0;34m\u001b[0m\u001b[0m\n\u001b[0m\u001b[1;32m  10964\u001b[0m \u001b[0;34m\u001b[0m\u001b[0m\n\u001b[1;32m  10965\u001b[0m         \u001b[0;32mif\u001b[0m \u001b[0mnew_cols\u001b[0m \u001b[0;32mis\u001b[0m \u001b[0;32mnot\u001b[0m \u001b[0;32mNone\u001b[0m \u001b[0;32mand\u001b[0m \u001b[0mlen\u001b[0m\u001b[0;34m(\u001b[0m\u001b[0mnew_cols\u001b[0m\u001b[0;34m)\u001b[0m \u001b[0;34m>\u001b[0m \u001b[0;36m0\u001b[0m\u001b[0;34m:\u001b[0m\u001b[0;34m\u001b[0m\u001b[0;34m\u001b[0m\u001b[0m\n\u001b[1;32m  10966\u001b[0m             return self._constructor(\n",
      "\u001b[0;31mTypeError\u001b[0m: decimals must be an integer, a dict-like or a Series"
     ]
    }
   ],
   "source": [
    "df_avg.round([{c:1} for c in df_avg.columns if 'Scenario' in c])"
   ]
  },
  {
   "cell_type": "code",
   "execution_count": 40,
   "metadata": {},
   "outputs": [
    {
     "data": {
      "text/plain": [
       "{'Scenario 1': 1}"
      ]
     },
     "execution_count": 40,
     "metadata": {},
     "output_type": "execute_result"
    }
   ],
   "source": [
    "[{c:1} for c in df_avg.columns if 'Scenario' in c]\n"
   ]
  },
  {
   "cell_type": "code",
   "execution_count": 12,
   "metadata": {},
   "outputs": [
    {
     "data": {
      "text/html": [
       "<div>\n",
       "<style scoped>\n",
       "    .dataframe tbody tr th:only-of-type {\n",
       "        vertical-align: middle;\n",
       "    }\n",
       "\n",
       "    .dataframe tbody tr th {\n",
       "        vertical-align: top;\n",
       "    }\n",
       "\n",
       "    .dataframe thead th {\n",
       "        text-align: right;\n",
       "    }\n",
       "</style>\n",
       "<table border=\"1\" class=\"dataframe\">\n",
       "  <thead>\n",
       "    <tr style=\"text-align: right;\">\n",
       "      <th></th>\n",
       "      <th>Well</th>\n",
       "      <th>Time</th>\n",
       "      <th>Scenario 1</th>\n",
       "      <th>Scenario 2</th>\n",
       "      <th>Scenario 3</th>\n",
       "    </tr>\n",
       "  </thead>\n",
       "  <tbody>\n",
       "    <tr>\n",
       "      <th>0</th>\n",
       "      <td>I1</td>\n",
       "      <td>10</td>\n",
       "      <td>0.489160</td>\n",
       "      <td>0.496553</td>\n",
       "      <td>0.496553</td>\n",
       "    </tr>\n",
       "    <tr>\n",
       "      <th>1</th>\n",
       "      <td>I1</td>\n",
       "      <td>20</td>\n",
       "      <td>0.674628</td>\n",
       "      <td>0.374589</td>\n",
       "      <td>0.374589</td>\n",
       "    </tr>\n",
       "    <tr>\n",
       "      <th>2</th>\n",
       "      <td>I1</td>\n",
       "      <td>30</td>\n",
       "      <td>0.016473</td>\n",
       "      <td>0.927991</td>\n",
       "      <td>0.927991</td>\n",
       "    </tr>\n",
       "    <tr>\n",
       "      <th>3</th>\n",
       "      <td>I1</td>\n",
       "      <td>40</td>\n",
       "      <td>0.340992</td>\n",
       "      <td>0.429115</td>\n",
       "      <td>0.429115</td>\n",
       "    </tr>\n",
       "    <tr>\n",
       "      <th>4</th>\n",
       "      <td>I1</td>\n",
       "      <td>50</td>\n",
       "      <td>0.930510</td>\n",
       "      <td>0.498454</td>\n",
       "      <td>0.498454</td>\n",
       "    </tr>\n",
       "    <tr>\n",
       "      <th>5</th>\n",
       "      <td>I1</td>\n",
       "      <td>60</td>\n",
       "      <td>0.877081</td>\n",
       "      <td>0.482782</td>\n",
       "      <td>0.482782</td>\n",
       "    </tr>\n",
       "    <tr>\n",
       "      <th>6</th>\n",
       "      <td>I1</td>\n",
       "      <td>70</td>\n",
       "      <td>0.920644</td>\n",
       "      <td>0.955906</td>\n",
       "      <td>0.955906</td>\n",
       "    </tr>\n",
       "    <tr>\n",
       "      <th>7</th>\n",
       "      <td>I1</td>\n",
       "      <td>80</td>\n",
       "      <td>0.605360</td>\n",
       "      <td>0.278903</td>\n",
       "      <td>0.278903</td>\n",
       "    </tr>\n",
       "    <tr>\n",
       "      <th>8</th>\n",
       "      <td>I1</td>\n",
       "      <td>90</td>\n",
       "      <td>0.278672</td>\n",
       "      <td>0.388817</td>\n",
       "      <td>0.388817</td>\n",
       "    </tr>\n",
       "    <tr>\n",
       "      <th>9</th>\n",
       "      <td>I1</td>\n",
       "      <td>100</td>\n",
       "      <td>0.616658</td>\n",
       "      <td>0.615216</td>\n",
       "      <td>0.615216</td>\n",
       "    </tr>\n",
       "  </tbody>\n",
       "</table>\n",
       "</div>"
      ],
      "text/plain": [
       "  Well  Time  Scenario 1  Scenario 2  Scenario 3\n",
       "0   I1    10    0.489160    0.496553    0.496553\n",
       "1   I1    20    0.674628    0.374589    0.374589\n",
       "2   I1    30    0.016473    0.927991    0.927991\n",
       "3   I1    40    0.340992    0.429115    0.429115\n",
       "4   I1    50    0.930510    0.498454    0.498454\n",
       "5   I1    60    0.877081    0.482782    0.482782\n",
       "6   I1    70    0.920644    0.955906    0.955906\n",
       "7   I1    80    0.605360    0.278903    0.278903\n",
       "8   I1    90    0.278672    0.388817    0.388817\n",
       "9   I1   100    0.616658    0.615216    0.615216"
      ]
     },
     "execution_count": 12,
     "metadata": {},
     "output_type": "execute_result"
    }
   ],
   "source": [
    "df[df['Well'] == 'I1']"
   ]
  },
  {
   "cell_type": "code",
   "execution_count": 13,
   "metadata": {},
   "outputs": [
    {
     "data": {
      "text/html": [
       "<div>\n",
       "<style scoped>\n",
       "    .dataframe tbody tr th:only-of-type {\n",
       "        vertical-align: middle;\n",
       "    }\n",
       "\n",
       "    .dataframe tbody tr th {\n",
       "        vertical-align: top;\n",
       "    }\n",
       "\n",
       "    .dataframe thead th {\n",
       "        text-align: right;\n",
       "    }\n",
       "</style>\n",
       "<table border=\"1\" class=\"dataframe\">\n",
       "  <thead>\n",
       "    <tr style=\"text-align: right;\">\n",
       "      <th></th>\n",
       "      <th>Well</th>\n",
       "      <th>Time</th>\n",
       "      <th>Scenario 1</th>\n",
       "      <th>Scenario 2</th>\n",
       "      <th>Scenario 3</th>\n",
       "    </tr>\n",
       "  </thead>\n",
       "  <tbody>\n",
       "    <tr>\n",
       "      <th>0</th>\n",
       "      <td>I1</td>\n",
       "      <td>10</td>\n",
       "      <td>0.489160</td>\n",
       "      <td>0.496553</td>\n",
       "      <td>0.496553</td>\n",
       "    </tr>\n",
       "    <tr>\n",
       "      <th>1</th>\n",
       "      <td>I1</td>\n",
       "      <td>20</td>\n",
       "      <td>0.674628</td>\n",
       "      <td>0.374589</td>\n",
       "      <td>0.374589</td>\n",
       "    </tr>\n",
       "    <tr>\n",
       "      <th>2</th>\n",
       "      <td>I1</td>\n",
       "      <td>30</td>\n",
       "      <td>0.016473</td>\n",
       "      <td>0.927991</td>\n",
       "      <td>0.927991</td>\n",
       "    </tr>\n",
       "    <tr>\n",
       "      <th>3</th>\n",
       "      <td>I1</td>\n",
       "      <td>40</td>\n",
       "      <td>0.340992</td>\n",
       "      <td>0.429115</td>\n",
       "      <td>0.429115</td>\n",
       "    </tr>\n",
       "    <tr>\n",
       "      <th>4</th>\n",
       "      <td>I1</td>\n",
       "      <td>50</td>\n",
       "      <td>0.930510</td>\n",
       "      <td>0.498454</td>\n",
       "      <td>0.498454</td>\n",
       "    </tr>\n",
       "    <tr>\n",
       "      <th>...</th>\n",
       "      <td>...</td>\n",
       "      <td>...</td>\n",
       "      <td>...</td>\n",
       "      <td>...</td>\n",
       "      <td>...</td>\n",
       "    </tr>\n",
       "    <tr>\n",
       "      <th>75</th>\n",
       "      <td>I8</td>\n",
       "      <td>60</td>\n",
       "      <td>0.337447</td>\n",
       "      <td>0.052172</td>\n",
       "      <td>0.052172</td>\n",
       "    </tr>\n",
       "    <tr>\n",
       "      <th>76</th>\n",
       "      <td>I8</td>\n",
       "      <td>70</td>\n",
       "      <td>0.002029</td>\n",
       "      <td>0.897945</td>\n",
       "      <td>0.897945</td>\n",
       "    </tr>\n",
       "    <tr>\n",
       "      <th>77</th>\n",
       "      <td>I8</td>\n",
       "      <td>80</td>\n",
       "      <td>0.899005</td>\n",
       "      <td>0.811502</td>\n",
       "      <td>0.811502</td>\n",
       "    </tr>\n",
       "    <tr>\n",
       "      <th>78</th>\n",
       "      <td>I8</td>\n",
       "      <td>90</td>\n",
       "      <td>0.137603</td>\n",
       "      <td>0.372567</td>\n",
       "      <td>0.372567</td>\n",
       "    </tr>\n",
       "    <tr>\n",
       "      <th>79</th>\n",
       "      <td>I8</td>\n",
       "      <td>100</td>\n",
       "      <td>0.045052</td>\n",
       "      <td>0.380271</td>\n",
       "      <td>0.380271</td>\n",
       "    </tr>\n",
       "  </tbody>\n",
       "</table>\n",
       "<p>80 rows × 5 columns</p>\n",
       "</div>"
      ],
      "text/plain": [
       "   Well  Time  Scenario 1  Scenario 2  Scenario 3\n",
       "0    I1    10    0.489160    0.496553    0.496553\n",
       "1    I1    20    0.674628    0.374589    0.374589\n",
       "2    I1    30    0.016473    0.927991    0.927991\n",
       "3    I1    40    0.340992    0.429115    0.429115\n",
       "4    I1    50    0.930510    0.498454    0.498454\n",
       "..  ...   ...         ...         ...         ...\n",
       "75   I8    60    0.337447    0.052172    0.052172\n",
       "76   I8    70    0.002029    0.897945    0.897945\n",
       "77   I8    80    0.899005    0.811502    0.811502\n",
       "78   I8    90    0.137603    0.372567    0.372567\n",
       "79   I8   100    0.045052    0.380271    0.380271\n",
       "\n",
       "[80 rows x 5 columns]"
      ]
     },
     "execution_count": 13,
     "metadata": {},
     "output_type": "execute_result"
    }
   ],
   "source": [
    "pd.DataFrame(df.to_dict())"
   ]
  },
  {
   "cell_type": "code",
   "execution_count": null,
   "metadata": {},
   "outputs": [],
   "source": []
  }
 ],
 "metadata": {
  "kernelspec": {
   "display_name": "dash_table_sandbox",
   "language": "python",
   "name": "python3"
  },
  "language_info": {
   "codemirror_mode": {
    "name": "ipython",
    "version": 3
   },
   "file_extension": ".py",
   "mimetype": "text/x-python",
   "name": "python",
   "nbconvert_exporter": "python",
   "pygments_lexer": "ipython3",
   "version": "3.11.10"
  }
 },
 "nbformat": 4,
 "nbformat_minor": 2
}
